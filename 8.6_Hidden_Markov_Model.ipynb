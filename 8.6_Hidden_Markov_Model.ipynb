{
 "cells": [
  {
   "cell_type": "markdown",
   "metadata": {},
   "source": [
    "第８章　隠れマルコフモデル    \n",
    "8.6隠れマルコフモデルの実験"
   ]
  },
  {
   "cell_type": "code",
   "execution_count": 1,
   "metadata": {
    "collapsed": false
   },
   "outputs": [
    {
     "data": {
      "text/plain": [
       "'%.3f'"
      ]
     },
     "execution_count": 1,
     "metadata": {},
     "output_type": "execute_result"
    }
   ],
   "source": [
    "import numpy as np\n",
    "import matplotlib.pyplot as plt\n",
    "import seaborn\n",
    "%matplotlib inline\n",
    "%precision 3"
   ]
  },
  {
   "cell_type": "code",
   "execution_count": 2,
   "metadata": {
    "collapsed": true
   },
   "outputs": [],
   "source": [
    "'''初期値'''\n",
    "A = [[0.1, 0.7, 0.2],\n",
    "     [0.2, 0.1, 0.7],\n",
    "     [0.7, 0.2, 0.1]]\n",
    "B = [[0.9, 0.1],\n",
    "     [0.6, 0.4],\n",
    "     [0.1, 0.9]]\n",
    "\n",
    "x = [1,2,1]"
   ]
  },
  {
   "cell_type": "code",
   "execution_count": 3,
   "metadata": {
    "collapsed": true
   },
   "outputs": [],
   "source": [
    "'''Step1 初期化'''\n",
    "init_fai_1 = (1/3) * B[0][0]\n",
    "init_fai_2 = (1/3) * B[1][0]\n",
    "init_fai_3 = (1/3) * B[2][0]\n",
    "fai = [[init_fai_1, init_fai_2, init_fai_3]]\n",
    "Fai_1, Fai_2, Fai_3 = 0, 0, 0\n",
    "Fai = [[Fai_1, Fai_2, Fai_3]]"
   ]
  },
  {
   "cell_type": "code",
   "execution_count": 4,
   "metadata": {
    "collapsed": false
   },
   "outputs": [],
   "source": [
    "'''Step2 前向きアルゴリズムによる再帰的計算'''\n",
    "for i in range(2):\n",
    "    if x[i+1] == 1:\n",
    "        xt = 0\n",
    "    elif x[i+1] == 2:\n",
    "        xt = 1\n",
    "    fai_1 = max(fai[i][0]*A[0][0], fai[i][1]*A[1][0], fai[i][2]*A[2][0]) * B[0][xt]\n",
    "    fai_2 = max(fai[i][0]*A[0][1], fai[i][1]*A[1][1], fai[i][2]*A[2][1]) * B[1][xt]\n",
    "    fai_3 = max(fai[i][0]*A[0][2], fai[i][1]*A[1][2], fai[i][2]*A[2][2]) * B[2][xt]\n",
    "    fai.append([fai_1, fai_2, fai_3])\n",
    "    \n",
    "    Fai_1 = np.argmax([fai[i][0]*A[0][0], fai[i][1]*A[1][0], fai[i][2]*A[2][0]])\n",
    "    Fai_2 = np.argmax([fai[i][0]*A[0][1], fai[i][1]*A[1][1], fai[i][2]*A[2][1]])\n",
    "    Fai_3 = np.argmax([fai[i][0]*A[0][2], fai[i][1]*A[1][2], fai[i][2]*A[2][2]])\n",
    "    Fai.append([Fai_1, Fai_2, Fai_3])\n",
    "    "
   ]
  },
  {
   "cell_type": "code",
   "execution_count": 5,
   "metadata": {
    "collapsed": false
   },
   "outputs": [
    {
     "name": "stdout",
     "output_type": "stream",
     "text": [
      "[[0.3, 0.19999999999999998, 0.03333333333333333], [0.004, 0.084, 0.126], [0.07938, 0.01512, 0.00588]]\n",
      "[[0, 0, 0], [1, 0, 1], [2, 2, 1]]\n"
     ]
    }
   ],
   "source": [
    "print(fai)\n",
    "print(Fai)"
   ]
  },
  {
   "cell_type": "code",
   "execution_count": 6,
   "metadata": {
    "collapsed": false
   },
   "outputs": [
    {
     "name": "stdout",
     "output_type": "stream",
     "text": [
      "s*: 2 3 1\n"
     ]
    }
   ],
   "source": [
    "'''Step4 系列の復元'''\n",
    "i_3 = np.argmax(fai[2]) #Step3 「終了」\n",
    "i_2 = Fai[2][i_3]\n",
    "i_1 = Fai[1][i_2]\n",
    "\n",
    "print('s*:',i_1+1,i_2+1,i_3+1)"
   ]
  },
  {
   "cell_type": "code",
   "execution_count": null,
   "metadata": {
    "collapsed": true
   },
   "outputs": [],
   "source": []
  }
 ],
 "metadata": {
  "anaconda-cloud": {},
  "kernelspec": {
   "display_name": "Python 3",
   "language": "python",
   "name": "python3"
  },
  "language_info": {
   "codemirror_mode": {
    "name": "ipython",
    "version": 3
   },
   "file_extension": ".py",
   "mimetype": "text/x-python",
   "name": "python",
   "nbconvert_exporter": "python",
   "pygments_lexer": "ipython3",
   "version": "3.6.0"
  }
 },
 "nbformat": 4,
 "nbformat_minor": 1
}
